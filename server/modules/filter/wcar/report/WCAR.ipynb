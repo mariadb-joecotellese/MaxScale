{
 "cells": [
  {
   "cell_type": "code",
   "execution_count": null,
   "id": "72adf1d7-f5b0-49d5-8e15-39ee892a88f2",
   "metadata": {
    "editable": true,
    "slideshow": {
     "slide_type": ""
    },
    "tags": []
   },
   "outputs": [],
   "source": [
    "#                                                                                                                                                                                                                                                                                         \n",
    "# Copyright (c) 2024 MariaDB plc                                                                                                                                                                                                                                                          \n",
    "#\n",
    "\n",
    "%matplotlib inline\n",
    "import notebook_helper\n",
    "\n",
    "#\n",
    "# Uncomment these if processing a raw WCAR replay\n",
    "#\n",
    "#%env CANONICALS=/path/to/canonicals.csv\n",
    "#%env BASELINE_REPLAY=/path/to/replay-1.csv\n",
    "#%env COMPARISON_REPLAY=/path/to/replay-2.csv\n",
    "\n",
    "#\n",
    "# Uncomment these if processing an already processed WCAR replay or a DIFF summary\n",
    "#\n",
    "#%env BASELINE=/path/to/summary-1.json\n",
    "#%env COMPARISON=/path/to/summary-2.json\n",
    "#\n",
    "# Otherwise, provide the values via the environment before launching the notebook\n",
    "#\n",
    "\n",
    "notebook_helper.run()"
   ]
  }
 ],
 "metadata": {
  "kernelspec": {
   "display_name": "Python 3 (ipykernel)",
   "language": "python",
   "name": "python3"
  },
  "language_info": {
   "codemirror_mode": {
    "name": "ipython",
    "version": 3
   },
   "file_extension": ".py",
   "mimetype": "text/x-python",
   "name": "python",
   "nbconvert_exporter": "python",
   "pygments_lexer": "ipython3",
   "version": "3.12.2"
  }
 },
 "nbformat": 4,
 "nbformat_minor": 5
}
